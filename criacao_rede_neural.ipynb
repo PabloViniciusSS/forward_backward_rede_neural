{
  "nbformat": 4,
  "nbformat_minor": 0,
  "metadata": {
    "colab": {
      "provenance": [],
      "authorship_tag": "ABX9TyM/jUPfaOp3oAfJm4gLnMAd",
      "include_colab_link": true
    },
    "kernelspec": {
      "name": "python3",
      "display_name": "Python 3"
    },
    "language_info": {
      "name": "python"
    }
  },
  "cells": [
    {
      "cell_type": "markdown",
      "metadata": {
        "id": "view-in-github",
        "colab_type": "text"
      },
      "source": [
        "<a href=\"https://colab.research.google.com/github/PabloViniciusSS/forward_backward_rede_neural/blob/main/criacao_rede_neural.ipynb\" target=\"_parent\"><img src=\"https://colab.research.google.com/assets/colab-badge.svg\" alt=\"Open In Colab\"/></a>"
      ]
    },
    {
      "cell_type": "markdown",
      "source": [
        "Projeto para criação de uma rede neural, criando as funções manuais de todos os passos para a criação, sem a utilização de um framework.\n",
        "Utilizando a vetorização para melhorar o desempenho.\n"
      ],
      "metadata": {
        "id": "oYiL3TylgKcf"
      }
    },
    {
      "cell_type": "code",
      "execution_count": 1,
      "metadata": {
        "id": "BDEHo9e0ACTc"
      },
      "outputs": [],
      "source": [
        "import numpy as np\n",
        "import h5py\n",
        "import matplotlib.pyplot as plt\n",
        "import copy\n",
        "\n",
        "np.random.seed(1)"
      ]
    },
    {
      "cell_type": "code",
      "source": [],
      "metadata": {
        "id": "1h0oSxulF4tG"
      },
      "execution_count": null,
      "outputs": []
    },
    {
      "cell_type": "markdown",
      "source": [
        "Irei criar as funções para uma rede neural, elas poderão ser utilizadas em outras redes.\n",
        "\n",
        "* Passa a passo:\n",
        "\n",
        "  - Inicialmente faremos as funções de ativações, para Forward, e gerar ua suposição \"y_hat\"\n",
        "  - E depois para Backward para atualizar os parametros do sistema"
      ],
      "metadata": {
        "id": "BUvPkqvrgrOV"
      }
    },
    {
      "cell_type": "code",
      "source": [
        "def sigmoid(Z):\n",
        "  A = 1/(1+np.exp(-Z))\n",
        "  cache = Z\n",
        "\n",
        "  return A, cache"
      ],
      "metadata": {
        "id": "bUV93CeFZuxc"
      },
      "execution_count": 2,
      "outputs": []
    },
    {
      "cell_type": "code",
      "source": [
        "def relu(Z):\n",
        "  A = np.maximun(0, Z)\n",
        "\n",
        "  assert(A.shape == Z.shape)\n",
        "\n",
        "  cache = Z\n",
        "\n",
        "  return A, cache"
      ],
      "metadata": {
        "id": "kEAPKk2Sg8GU"
      },
      "execution_count": 15,
      "outputs": []
    },
    {
      "cell_type": "code",
      "source": [
        "def relu_backward(dA, cache):\n",
        "\n",
        "  Z = cache\n",
        "  dZ = np.Array(dA, copy=True)\n",
        "\n",
        "  dZ[Z <= 0 ] = 0\n",
        "\n",
        "  assert (dZ.shape == Z.shape)\n",
        "\n",
        "  return dZ"
      ],
      "metadata": {
        "id": "GG30gZ_6aBQx"
      },
      "execution_count": 16,
      "outputs": []
    },
    {
      "cell_type": "code",
      "source": [
        "def sigmoid_backward(dA, cache):\n",
        "  Z = cache\n",
        "\n",
        "  s = 1/(1+np.exp(-Z))\n",
        "  dZ = dA * s * (1-s)\n",
        "\n",
        "  assert (dZ.shape == Z.shape)\n",
        "\n",
        "  return dZ\n"
      ],
      "metadata": {
        "id": "tK-tPdjfaQZa"
      },
      "execution_count": 17,
      "outputs": []
    },
    {
      "cell_type": "markdown",
      "source": [
        "Agora vamos criar as funções para a rede neural.\n",
        "\n",
        "Para a \"forward propagation\":\n",
        "\n",
        "* A Rede neural contará com duas camadas ocultas, mais a camada L\n",
        "\n",
        "* As ativações utilizadas serão o sigmoid e o relu\n",
        "\n",
        "* Irá computar a perda\n",
        "\n",
        "Para a \"backward propagation\":\n",
        "\n",
        "* Será feito todo o processo inverso.\n",
        "\n",
        "* Calculará com base nas atiavações e nos caches.\n",
        "\n",
        "* No fim será feito a atualização do W e b"
      ],
      "metadata": {
        "id": "c3ekpmJAHZ7t"
      }
    },
    {
      "cell_type": "markdown",
      "source": [
        "Vamos iniciar criar os parametros, W e b, como seão duas camadas, teremos W1 e W2, e b1 e b2.\n",
        "\n",
        "O parametro b pode ser zerado que não causa conflito na hora de prever, deixando de lado e facilitando na hora de atualizar.\n",
        "\n"
      ],
      "metadata": {
        "id": "Aj5onUCZMYfA"
      }
    },
    {
      "cell_type": "code",
      "source": [
        "def initializate_parameters(n_x, n_h, n_y):\n",
        "\n",
        "  # n_x: dimensão da camada de entrada\n",
        "  # n_h: dimensão da camada oculta\n",
        "  # n_y: dimensão da camada de saida\n",
        "\n",
        "  np.random.seed(2)\n",
        "  W1 = np.random.randn(n_h, n_x) * 0.01\n",
        "  b1 = np.zeros((n_h, 1))\n",
        "  W2 = np.random.randn(n_y, n_h) * 0.01\n",
        "  b2 = np.zeros((n_y, 1))\n",
        "\n",
        "\n",
        "  parameters = {\n",
        "                'W1': W1,\n",
        "                'b1': b1,\n",
        "                'W2': W2,\n",
        "                'b2': b2\n",
        "              }\n",
        "\n",
        "  return parameters"
      ],
      "metadata": {
        "id": "HwyCq7jqbRUb"
      },
      "execution_count": 5,
      "outputs": []
    },
    {
      "cell_type": "markdown",
      "source": [
        "O proximo é uma função automatica para gerar os parametros W e b, na quantidade que deseja, fazendo o sistema ser mais flexivel"
      ],
      "metadata": {
        "id": "uYShh-EWVNs6"
      }
    },
    {
      "cell_type": "code",
      "source": [
        "def initialize_parameters_deep(layer_dims):\n",
        "\n",
        "  np.random.seed(3)\n",
        "  parameters = {}\n",
        "  L = len(layer_dims)\n",
        "\n",
        "  for l in range(1, L):\n",
        "    parameters[\"W\" + str(L)] = np.random.randn(layer_dims[l], layer_dims[l-1]) * 0.01\n",
        "    parameters[\"b\" + str(L)] = np.zeros(layer_dims[l], 1)\n",
        "\n",
        "    assert(parameters[\"W\" + str(l)].shape == (layer_dims[l], layer_dims[l-1]))\n",
        "    assert(parameters[\"b\" + str(l)].shape == (layer_dims[l],1))\n",
        "\n",
        "\n",
        "  return parameters\n",
        "\n"
      ],
      "metadata": {
        "id": "C4UMpgSIfwSG"
      },
      "execution_count": 6,
      "outputs": []
    },
    {
      "cell_type": "markdown",
      "source": [
        "Função para a criação da função linear"
      ],
      "metadata": {
        "id": "y7_su6QdWKVc"
      }
    },
    {
      "cell_type": "code",
      "source": [
        "def linear_forward(A, W, b):\n",
        "\n",
        "  Z = np.dot(W,A)+b\n",
        "\n",
        "  cache = (A, W, b)\n",
        "\n",
        "  return Z, cache"
      ],
      "metadata": {
        "id": "qVudcHbas4xk"
      },
      "execution_count": 7,
      "outputs": []
    },
    {
      "cell_type": "markdown",
      "source": [
        "Agora criando a função das ativações, com um if para o sistema gerar a partir da que deseja, no caso \"sigmoid\" e \"relu\""
      ],
      "metadata": {
        "id": "ltH52rZ3WS21"
      }
    },
    {
      "cell_type": "code",
      "source": [
        "def linear_activation_forward(A_prev, W, b, activation):\n",
        "  if activation == \"sigmoid\":\n",
        "    Z, linear_cache = linear_forward(A_prev, W, b)\n",
        "    A, activation_cache = sigmoid(Z)\n",
        "\n",
        "  elif activation == \"relu\":\n",
        "    Z, linear_cache = linear_forward(A_prev, W, b)\n",
        "\n",
        "  cache = (linear_cache, activation_cache)\n",
        "  return A, cache"
      ],
      "metadata": {
        "id": "dVeh606SII1N"
      },
      "execution_count": 8,
      "outputs": []
    },
    {
      "cell_type": "markdown",
      "source": [
        "Agora concluindo a fase de propagation forward, criando a predição"
      ],
      "metadata": {
        "id": "GagtAAM6WoDX"
      }
    },
    {
      "cell_type": "code",
      "source": [
        "def L_model_forward(X, parameters):\n",
        "  caches = []\n",
        "  A = X\n",
        "  L = len(parameters) // 2\n",
        "\n",
        "  for l in range(1, L):\n",
        "    A_prev = A\n",
        "\n",
        "    A, cache = linear_activation_forward(A_prev,\n",
        "                                         parameters['W'+str(l)],\n",
        "                                         parameters['b'+str(l)],\n",
        "                                         activation = 'relu')\n",
        "\n",
        "\n",
        "    caches.append(cache)\n",
        "\n",
        "    AL, cache = linear_activation_forward(A,\n",
        "                                          parameters['W' + str(L)],\n",
        "                                          parameters['b' + str(L)],\n",
        "                                          activation='sigmoid')\n",
        "    caches.append(cache)\n",
        "\n",
        "    return AL, caches\n"
      ],
      "metadata": {
        "id": "i1IAELCqJ_hX"
      },
      "execution_count": 9,
      "outputs": []
    },
    {
      "cell_type": "markdown",
      "source": [
        "E por fim fazendo o calculo do custo"
      ],
      "metadata": {
        "id": "SglJjeDIXGWk"
      }
    },
    {
      "cell_type": "code",
      "source": [
        "def compute_cost(AL, Y):\n",
        "\n",
        "  m = Y.shape[1]\n",
        "\n",
        "  cost = (-1. / m) * np(np.multiply(Y, np.log(AL)) + np.multiply((1-Y), np.log(1-AL)))\n",
        "\n",
        "  cost = np.squeeze(cost)\n",
        "\n",
        "  return cost"
      ],
      "metadata": {
        "id": "6CHa4DKTTeiA"
      },
      "execution_count": 10,
      "outputs": []
    },
    {
      "cell_type": "markdown",
      "source": [
        "Iniciando a fase de propagation Backward, iniciamos criando o dW, db e dA_prev"
      ],
      "metadata": {
        "id": "86vplh1OXLIt"
      }
    },
    {
      "cell_type": "code",
      "source": [
        "def linear_backward(dZ, cache):\n",
        "\n",
        "  A_prev, W, b = cache\n",
        "  m = A_prev.shape[1]\n",
        "\n",
        "  dW = (1./m) * np.dot(dZ, cache[0].T)\n",
        "  db = (1./m * np.sum(dZ,axis = 1, keepdims=True))\n",
        "  dA_prev = np.dot(cache[1].T, dZ)\n",
        "\n",
        "  return dA_prev, dW, db"
      ],
      "metadata": {
        "id": "2oxDU-DAVO58"
      },
      "execution_count": 11,
      "outputs": []
    },
    {
      "cell_type": "markdown",
      "source": [
        "Criando a função para calular as ativações"
      ],
      "metadata": {
        "id": "YOUl9jZZXdvU"
      }
    },
    {
      "cell_type": "code",
      "source": [
        "def linear_activation_backward(dA, cache, activation):\n",
        "\n",
        "  linear_cache, activation_cache = cache\n",
        "\n",
        "  if activation == \"relu\":\n",
        "\n",
        "    dZ = relu_backward(dA, activation_cache)\n",
        "    dA_prev, dW, db = linear_backward(dZ, linear_cache)\n",
        "\n",
        "  elif activation == \"sigmoid\":\n",
        "\n",
        "    dZ = sigmoid_backward(dA, activation_cache)\n",
        "    dA_prev, dW, db = linear_backward(dZ, linear_cache)\n",
        "\n",
        "    return dA_prev, dW, db"
      ],
      "metadata": {
        "id": "O8igT6QvcxuZ"
      },
      "execution_count": 12,
      "outputs": []
    },
    {
      "cell_type": "markdown",
      "source": [
        "E por fim pegando os valor de dA e calculando a ativação relu e sigmoid"
      ],
      "metadata": {
        "id": "BM_-s2oTXppX"
      }
    },
    {
      "cell_type": "code",
      "source": [
        "def L_model_backward(AL, Y, caches):\n",
        "  grads = {}\n",
        "  L = len(caches)\n",
        "  m = AL.shapes[1]\n",
        "  Y = Y.reshapes(AL.shape)\n",
        "\n",
        "  dAL = - (np.divide(Y, AL) - np.divide(1 - Y, 1 - AL))\n",
        "\n",
        "  current_cache = caches[L-1]\n",
        "  grads[\"dA\" + str(L-1)], grads[\"dW\" + str(L)], grads[\"db\" + str(L)] = linear_activation_backward(dAL, current_cache, activation = 'sigmoid')\n",
        "\n",
        "  for l in reversed(range(L-1)):\n",
        "\n",
        "    current_cache = caches[l]\n",
        "    dA_prev_temp, dW_temp, db_temp = linear_activation_backward(grads[\"dA\" + str(l + 1)], current_cache, activation=\"relu\")\n",
        "    grads[\"dA\" + str(l)] = dA_prev_temp\n",
        "    grads[\"dW\" + str(l + 1)] = dW_temp\n",
        "    grads[\"db\" + str(l + 1)] = db_temp\n",
        "\n",
        "    return grads"
      ],
      "metadata": {
        "id": "UgyIXVf1u6cp"
      },
      "execution_count": 13,
      "outputs": []
    },
    {
      "cell_type": "markdown",
      "source": [
        "E por fim atualizando os parametros W e b"
      ],
      "metadata": {
        "id": "YAyaSOgmXvgG"
      }
    },
    {
      "cell_type": "code",
      "source": [
        "def update_parameters(params, grads, learning_rate):\n",
        "  parameters = copy.deepcopy(params)\n",
        "  L = len(parameters)\n",
        "\n",
        "  for l in range(L):\n",
        "\n",
        "    parameters[\"W\" + str(l+1)] = parameters[\"W\" + str(l+1)] - learning_rate * grads[\"dW\" + str(l+1)]\n",
        "    parameters[\"b\" + str(l+1)] = parameters[\"b\" + str(l+1)] - learning_rate * grads[\"db\" + str(l+1)]\n",
        "\n",
        "    return parameters"
      ],
      "metadata": {
        "id": "ajv0N1r5VwPU"
      },
      "execution_count": 14,
      "outputs": []
    },
    {
      "cell_type": "markdown",
      "source": [
        "O projeto tem como finalidade aprender como função a rede neural, foi feito com base no curso de Deep Learning da DeepLearning.ia.\n",
        "\n"
      ],
      "metadata": {
        "id": "9WRKZ35_X0WL"
      }
    }
  ]
}